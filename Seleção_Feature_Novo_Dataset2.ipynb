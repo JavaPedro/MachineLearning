{
  "nbformat": 4,
  "nbformat_minor": 0,
  "metadata": {
    "colab": {
      "provenance": [],
      "authorship_tag": "ABX9TyOF3GrqRmLVYdDyUq/CAKbW",
      "include_colab_link": true
    },
    "kernelspec": {
      "name": "python3",
      "display_name": "Python 3"
    },
    "language_info": {
      "name": "python"
    }
  },
  "cells": [
    {
      "cell_type": "markdown",
      "metadata": {
        "id": "view-in-github",
        "colab_type": "text"
      },
      "source": [
        "<a href=\"https://colab.research.google.com/github/JavaPedro/MachineLearning/blob/main/Sele%C3%A7%C3%A3o_Feature_Novo_Dataset2.ipynb\" target=\"_parent\"><img src=\"https://colab.research.google.com/assets/colab-badge.svg\" alt=\"Open In Colab\"/></a>"
      ]
    },
    {
      "cell_type": "code",
      "source": [
        "# Autor : Pedro Arthur Fernandes de Oliveira"
      ],
      "metadata": {
        "id": "LlfZBKES_hAJ"
      },
      "execution_count": 1,
      "outputs": []
    },
    {
      "cell_type": "code",
      "execution_count": 6,
      "metadata": {
        "colab": {
          "base_uri": "https://localhost:8080/"
        },
        "id": "31CwAXNV_VEx",
        "outputId": "7c43203d-936f-4bf9-f330-cd683f6f8285"
      },
      "outputs": [
        {
          "output_type": "stream",
          "name": "stdout",
          "text": [
            "            Specs         Score\n",
            "2          salary  35597.472647\n",
            "1         service     63.018739\n",
            "0             phd     40.338972\n",
            "8      sex_Female     39.000000\n",
            "9        sex_Male     39.000000\n",
            "3  rank_AssocProf      3.769231\n",
            "5       rank_Prof      2.173913\n",
            "4   rank_AsstProf      0.473684\n",
            "6    discipline_A      0.000000\n",
            "7    discipline_B      0.000000\n"
          ]
        }
      ],
      "source": [
        "import pandas as pd\n",
        "import numpy as np\n",
        "from sklearn.feature_selection import SelectKBest\n",
        "from sklearn.feature_selection import chi2\n",
        "data = pd.read_csv(\"Salaries.csv\")\n",
        "data = pd.get_dummies(data, columns=['rank'])\n",
        "data = pd.get_dummies(data, columns=['discipline'])\n",
        "data = pd.get_dummies(data, columns=['sex'])\n",
        "\n",
        "data.head(10)\n",
        "\n",
        "X = data.iloc[:,0:20]  #independent columns\n",
        "y = data.iloc[:,-1]    #target column i.e price range\n",
        "\n",
        "\n",
        "# apply SelectKBest class to extract top 10 best features\n",
        "bestfeatures = SelectKBest(score_func=chi2, k=10)\n",
        "fit = bestfeatures.fit(X,y)\n",
        "dfscores = pd.DataFrame(fit.scores_)\n",
        "dfcolumns = pd.DataFrame(X.columns)\n",
        "\n",
        "#concat two dataframes for better visualization \n",
        "featureScores = pd.concat([dfcolumns,dfscores],axis=1)\n",
        "\n",
        "featureScores.columns = ['Specs','Score']  #naming the dataframe columns\n",
        "\n",
        "print(featureScores.nlargest(10,'Score'))  #print 10 best features"
      ]
    }
  ]
}